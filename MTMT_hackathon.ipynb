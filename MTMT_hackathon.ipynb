{
 "cells": [
  {
   "cell_type": "markdown",
   "source": [
    "# MOME x MTMT próbafeladat"
   ],
   "metadata": {
    "collapsed": false
   }
  },
  {
   "cell_type": "markdown",
   "source": [
    "### Az MTMT egy tudományos és irodalmi publikációkat, továbbá művészeti alkotásokat tartalmazó, nyilvánosan hozzáférhető, json-formátumban lekérhezhető adatbázis. Feladatod ennek az adatbázisnak parciális megemésztése. Elsődlegesen pythonban...pandaszelídítés erősen javallott.\n",
    "##### Határidő: Az Univerzum hőhalála"
   ],
   "metadata": {
    "collapsed": false
   }
  },
  {
   "cell_type": "markdown",
   "source": [
    "### Import"
   ],
   "metadata": {
    "collapsed": false
   }
  },
  {
   "cell_type": "code",
   "execution_count": 62,
   "outputs": [],
   "source": [
    "import pandas as pd\n",
    "import urllib\n",
    "import json\n",
    "from tqdm import tqdm"
   ],
   "metadata": {
    "collapsed": false
   }
  },
  {
   "cell_type": "markdown",
   "source": [
    "### MTMT API-wrapperek és nested-json helperek"
   ],
   "metadata": {
    "collapsed": false
   }
  },
  {
   "cell_type": "code",
   "execution_count": 63,
   "outputs": [],
   "source": [
    "def get_creators(affiliation_code=\"208\"):\n",
    "    mtmt_link = f\"https://m2.mtmt.hu/api/author?cond=affiliations.worksFor;inica;{affiliation_code}&sort=label,asc&size=5000&format=json\"\n",
    "    with urllib.request.urlopen(mtmt_link) as url:\n",
    "        d = json.loads(url.read().decode())\n",
    "    df_creators_nested_list = pd.json_normalize(d['content'])\n",
    "    creators = df_creators_nested_list[[\"mtid\",\"familyName\",\"givenName\",\"auxName\"]].rename(columns={\"mtid\":\"author_mtid\",\"auxName\":\"FIELD\"}).copy()\n",
    "    return creators\n",
    "\n",
    "def get_creations(author_code):\n",
    "    mtmt_link = fr\"https://m2.mtmt.hu/api/publication?cond=authorships.author;eq;{author_code}&size=5000&labelLang=hun&cite_type=2&format=json\"\n",
    "    with urllib.request.urlopen(mtmt_link) as url:\n",
    "        d = json.loads(url.read().decode())\n",
    "    df_i_nested_list = pd.json_normalize(d['content'])\n",
    "    df_i_nested_list[\"author_mtid\"] = author_code\n",
    "    return df_i_nested_list\n"
   ],
   "metadata": {
    "collapsed": false
   }
  },
  {
   "cell_type": "code",
   "execution_count": 64,
   "outputs": [],
   "source": [
    "def flatten_nested_json_df(df):\n",
    "    try:\n",
    "        df = df.reset_index()\n",
    "    except:\n",
    "        pass\n",
    "\n",
    "    s = (df.applymap(type) == list).all()\n",
    "    list_columns = s[s].index.tolist()\n",
    "\n",
    "    s = (df.applymap(type) == dict).all()\n",
    "    dict_columns = s[s].index.tolist()\n",
    "    while len(list_columns) > 0 or len(dict_columns) > 0:\n",
    "        new_columns = []\n",
    "\n",
    "        for col in dict_columns:\n",
    "            horiz_exploded = pd.json_normalize(df[col]).add_prefix(f'{col}.')\n",
    "            horiz_exploded.index = df.index\n",
    "            df = pd.concat([df, horiz_exploded], axis=1).drop(columns=[col])\n",
    "            new_columns.extend(horiz_exploded.columns) # inplace\n",
    "\n",
    "        for col in list_columns:\n",
    "            df = df.drop(columns=[col]).join(df[col].explode().to_frame())\n",
    "            new_columns.append(col)\n",
    "        s = (df[new_columns].applymap(type) == list).all()\n",
    "        list_columns = s[s].index.tolist()\n",
    "\n",
    "        s = (df[new_columns].applymap(type) == dict).all()\n",
    "        dict_columns = s[s].index.tolist()\n",
    "    return df"
   ],
   "metadata": {
    "collapsed": false
   }
  },
  {
   "cell_type": "markdown",
   "source": [
    "### MOME 'alkotók'"
   ],
   "metadata": {
    "collapsed": false
   }
  },
  {
   "cell_type": "code",
   "execution_count": 65,
   "outputs": [
    {
     "data": {
      "text/plain": "   author_mtid familyName       givenName  \\\n0     10014956  Antalóczy           Tímea   \n1     10025242   Babarczy          Eszter   \n2     10076778      Bagdi            Sára   \n3     10072202       Bakk  Ágnes Karolina   \n4     10068336      Balla      Dóra Judit   \n\n                                               FIELD  \n0                                        szociológia  \n1                                     kultúrakutatás  \n2  művészettörténet, historiográfia, esztétika, k...  \n3                         interaktív narratív design  \n4                 Tervezőgrafika történet és elmélet  ",
      "text/html": "<div>\n<style scoped>\n    .dataframe tbody tr th:only-of-type {\n        vertical-align: middle;\n    }\n\n    .dataframe tbody tr th {\n        vertical-align: top;\n    }\n\n    .dataframe thead th {\n        text-align: right;\n    }\n</style>\n<table border=\"1\" class=\"dataframe\">\n  <thead>\n    <tr style=\"text-align: right;\">\n      <th></th>\n      <th>author_mtid</th>\n      <th>familyName</th>\n      <th>givenName</th>\n      <th>FIELD</th>\n    </tr>\n  </thead>\n  <tbody>\n    <tr>\n      <th>0</th>\n      <td>10014956</td>\n      <td>Antalóczy</td>\n      <td>Tímea</td>\n      <td>szociológia</td>\n    </tr>\n    <tr>\n      <th>1</th>\n      <td>10025242</td>\n      <td>Babarczy</td>\n      <td>Eszter</td>\n      <td>kultúrakutatás</td>\n    </tr>\n    <tr>\n      <th>2</th>\n      <td>10076778</td>\n      <td>Bagdi</td>\n      <td>Sára</td>\n      <td>művészettörténet, historiográfia, esztétika, k...</td>\n    </tr>\n    <tr>\n      <th>3</th>\n      <td>10072202</td>\n      <td>Bakk</td>\n      <td>Ágnes Karolina</td>\n      <td>interaktív narratív design</td>\n    </tr>\n    <tr>\n      <th>4</th>\n      <td>10068336</td>\n      <td>Balla</td>\n      <td>Dóra Judit</td>\n      <td>Tervezőgrafika történet és elmélet</td>\n    </tr>\n  </tbody>\n</table>\n</div>"
     },
     "execution_count": 65,
     "metadata": {},
     "output_type": "execute_result"
    }
   ],
   "source": [
    "MOME_creators = get_creators(affiliation_code=\"208\")\n",
    "MOME_creators.head()"
   ],
   "metadata": {
    "collapsed": false
   }
  },
  {
   "cell_type": "markdown",
   "source": [
    "### 1. feladat: Generálj egy saját 'belső id'-t, aminek segítségével a duplikált szerzőket (pl. Bene Tamás, Handú Anett) össze lehet majd gyúrni!"
   ],
   "metadata": {
    "collapsed": false
   }
  },
  {
   "cell_type": "code",
   "execution_count": 65,
   "outputs": [],
   "source": [],
   "metadata": {
    "collapsed": false
   }
  },
  {
   "cell_type": "markdown",
   "source": [
    "### MTMT publikációk és alkotások"
   ],
   "metadata": {
    "collapsed": false
   }
  },
  {
   "cell_type": "code",
   "execution_count": 66,
   "outputs": [
    {
     "name": "stdout",
     "output_type": "stream",
     "text": [
      "Accessing MTMT database...\n"
     ]
    },
    {
     "name": "stderr",
     "output_type": "stream",
     "text": [
      "100%|██████████| 178/178 [03:56<00:00,  1.33s/it]\n"
     ]
    }
   ],
   "source": [
    "df_related_creations = pd.DataFrame()\n",
    "\n",
    "print(\"Accessing MTMT database...\") # kb. 5-10 perc az MTMT terheltségétől függően\n",
    "for author_mtid in tqdm(MOME_creators['author_mtid'].to_list()):\n",
    "    df_creations = get_creations(author_code=author_mtid)\n",
    "    df_related_creations = pd.concat([df_creations,df_related_creations], ignore_index=True)"
   ],
   "metadata": {
    "collapsed": false
   }
  },
  {
   "cell_type": "markdown",
   "source": [
    "### 2. feladat/kérdés: szerinted meggyorsítható ez a lekérdezés, ha automatizálni szeretnénk a folyamatot? Nem kell kidolgoznod, de ha kedved szottyan hozzá, nyugodtan kísérletezhetsz az MTMT api függvényekkel."
   ],
   "metadata": {
    "collapsed": false
   }
  },
  {
   "cell_type": "code",
   "execution_count": 66,
   "outputs": [],
   "source": [],
   "metadata": {
    "collapsed": false
   }
  },
  {
   "cell_type": "markdown",
   "source": [
    "### MTMT tevékenység alapadatok"
   ],
   "metadata": {
    "collapsed": false
   }
  },
  {
   "cell_type": "code",
   "execution_count": 67,
   "outputs": [
    {
     "data": {
      "text/plain": "         mtid  author_mtid  creator.mtid  \\\n0  32236397.0     10058347    10071569.0   \n1  31335579.0     10058347    10058346.0   \n2  33532388.0     10010868    10010868.0   \n3  33540172.0     10010868    10040500.0   \n4  33532389.0     10010868    10010868.0   \n\n                                               title subTitle    type.label  \\\n0                              Péter Vladimir könyve      NaN         Könyv   \n1                              Péter Vladimir könyve      NaN         Könyv   \n2  Magyar Modern – Ungarische Kunst in Berlin 191...      NaN         Könyv   \n3   Magyar Modern: Hungarian Art in Berlin 1910–1933      NaN         Könyv   \n4  „Ungarn gibt es überall” – Kontakte, Freundsch...      NaN  Könyvrészlet   \n\n  subType.docType.label   subType.name    category.label comment  \\\n0                 Könyv     Monográfia        Tudományos     NaN   \n1                 Könyv     Monográfia  Ismeretterjesztő     NaN   \n2                 Könyv      Katalógus        Tudományos     NaN   \n3                 Könyv      Szakkönyv        Tudományos     NaN   \n4          Könyvrészlet  Szaktanulmány        Tudományos     NaN   \n\n                                        abstractText  publishedYear  \\\n0  Péter Vladimír munkásságat bemutató kötet. Fot...         2007.0   \n1                                                NaN         2007.0   \n2                                                NaN         2022.0   \n3                                                NaN         2022.0   \n4                                                NaN         2022.0   \n\n  collaboration                                              label  \\\n0           NaN  Máté Gábor et al. Péter Vladimir könyve. (2007...   \n1           NaN  Vargha Balázs et al. Péter Vladimir könyve. (2...   \n2           NaN  Burmeister Ralf. Magyar Modern – Ungarische Ku...   \n3           NaN  Ralf Burmeister. Magyar Modern: Hungarian Art ...   \n4           NaN  Zwickl András. „Ungarn gibt es überall” – Kont...   \n\n                                         authorships subjects  \\\n0  [{'otype': 'PersonAuthorship', 'mtid': 9762052...      NaN   \n1  [{'otype': 'PersonAuthorship', 'mtid': 9178525...      NaN   \n2  [{'otype': 'PersonAuthorship', 'mtid': 1061392...      NaN   \n3  [{'otype': 'PersonAuthorship', 'mtid': 1061783...      NaN   \n4  [{'otype': 'PersonAuthorship', 'mtid': 1061393...      NaN   \n\n                                            keywords properties  \n0                                                NaN        NaN  \n1  [{'otype': 'Keyword', 'mtid': 2017487, 'link':...        NaN  \n2                                                NaN        NaN  \n3                                                NaN        NaN  \n4                                                NaN        NaN  ",
      "text/html": "<div>\n<style scoped>\n    .dataframe tbody tr th:only-of-type {\n        vertical-align: middle;\n    }\n\n    .dataframe tbody tr th {\n        vertical-align: top;\n    }\n\n    .dataframe thead th {\n        text-align: right;\n    }\n</style>\n<table border=\"1\" class=\"dataframe\">\n  <thead>\n    <tr style=\"text-align: right;\">\n      <th></th>\n      <th>mtid</th>\n      <th>author_mtid</th>\n      <th>creator.mtid</th>\n      <th>title</th>\n      <th>subTitle</th>\n      <th>type.label</th>\n      <th>subType.docType.label</th>\n      <th>subType.name</th>\n      <th>category.label</th>\n      <th>comment</th>\n      <th>abstractText</th>\n      <th>publishedYear</th>\n      <th>collaboration</th>\n      <th>label</th>\n      <th>authorships</th>\n      <th>subjects</th>\n      <th>keywords</th>\n      <th>properties</th>\n    </tr>\n  </thead>\n  <tbody>\n    <tr>\n      <th>0</th>\n      <td>32236397.0</td>\n      <td>10058347</td>\n      <td>10071569.0</td>\n      <td>Péter Vladimir könyve</td>\n      <td>NaN</td>\n      <td>Könyv</td>\n      <td>Könyv</td>\n      <td>Monográfia</td>\n      <td>Tudományos</td>\n      <td>NaN</td>\n      <td>Péter Vladimír munkásságat bemutató kötet. Fot...</td>\n      <td>2007.0</td>\n      <td>NaN</td>\n      <td>Máté Gábor et al. Péter Vladimir könyve. (2007...</td>\n      <td>[{'otype': 'PersonAuthorship', 'mtid': 9762052...</td>\n      <td>NaN</td>\n      <td>NaN</td>\n      <td>NaN</td>\n    </tr>\n    <tr>\n      <th>1</th>\n      <td>31335579.0</td>\n      <td>10058347</td>\n      <td>10058346.0</td>\n      <td>Péter Vladimir könyve</td>\n      <td>NaN</td>\n      <td>Könyv</td>\n      <td>Könyv</td>\n      <td>Monográfia</td>\n      <td>Ismeretterjesztő</td>\n      <td>NaN</td>\n      <td>NaN</td>\n      <td>2007.0</td>\n      <td>NaN</td>\n      <td>Vargha Balázs et al. Péter Vladimir könyve. (2...</td>\n      <td>[{'otype': 'PersonAuthorship', 'mtid': 9178525...</td>\n      <td>NaN</td>\n      <td>[{'otype': 'Keyword', 'mtid': 2017487, 'link':...</td>\n      <td>NaN</td>\n    </tr>\n    <tr>\n      <th>2</th>\n      <td>33532388.0</td>\n      <td>10010868</td>\n      <td>10010868.0</td>\n      <td>Magyar Modern – Ungarische Kunst in Berlin 191...</td>\n      <td>NaN</td>\n      <td>Könyv</td>\n      <td>Könyv</td>\n      <td>Katalógus</td>\n      <td>Tudományos</td>\n      <td>NaN</td>\n      <td>NaN</td>\n      <td>2022.0</td>\n      <td>NaN</td>\n      <td>Burmeister Ralf. Magyar Modern – Ungarische Ku...</td>\n      <td>[{'otype': 'PersonAuthorship', 'mtid': 1061392...</td>\n      <td>NaN</td>\n      <td>NaN</td>\n      <td>NaN</td>\n    </tr>\n    <tr>\n      <th>3</th>\n      <td>33540172.0</td>\n      <td>10010868</td>\n      <td>10040500.0</td>\n      <td>Magyar Modern: Hungarian Art in Berlin 1910–1933</td>\n      <td>NaN</td>\n      <td>Könyv</td>\n      <td>Könyv</td>\n      <td>Szakkönyv</td>\n      <td>Tudományos</td>\n      <td>NaN</td>\n      <td>NaN</td>\n      <td>2022.0</td>\n      <td>NaN</td>\n      <td>Ralf Burmeister. Magyar Modern: Hungarian Art ...</td>\n      <td>[{'otype': 'PersonAuthorship', 'mtid': 1061783...</td>\n      <td>NaN</td>\n      <td>NaN</td>\n      <td>NaN</td>\n    </tr>\n    <tr>\n      <th>4</th>\n      <td>33532389.0</td>\n      <td>10010868</td>\n      <td>10010868.0</td>\n      <td>„Ungarn gibt es überall” – Kontakte, Freundsch...</td>\n      <td>NaN</td>\n      <td>Könyvrészlet</td>\n      <td>Könyvrészlet</td>\n      <td>Szaktanulmány</td>\n      <td>Tudományos</td>\n      <td>NaN</td>\n      <td>NaN</td>\n      <td>2022.0</td>\n      <td>NaN</td>\n      <td>Zwickl András. „Ungarn gibt es überall” – Kont...</td>\n      <td>[{'otype': 'PersonAuthorship', 'mtid': 1061393...</td>\n      <td>NaN</td>\n      <td>NaN</td>\n      <td>NaN</td>\n    </tr>\n  </tbody>\n</table>\n</div>"
     },
     "execution_count": 67,
     "metadata": {},
     "output_type": "execute_result"
    }
   ],
   "source": [
    "df_creations = df_related_creations[[\"mtid\",\"author_mtid\",\"creator.mtid\",\"title\",\"subTitle\",\"type.label\",\"subType.docType.label\",\"subType.name\",\"category.label\",\"comment\",\"abstractText\",\"publishedYear\",\"collaboration\",\"label\",\"authorships\",\"subjects\",\"keywords\",\"properties\"]]\n",
    "df_creations.head()"
   ],
   "metadata": {
    "collapsed": false
   }
  },
  {
   "cell_type": "markdown",
   "source": [
    "### 3. feladat: Dolgozd át a 'comment', 'abstracttext' és 'label' oszlopokat egy közös 'general_description'-re.! Próbálj minél magasabb minőségű szöveget generálni (szerzőnevek, fura azonosítók és évszámok nélkül)!"
   ],
   "metadata": {
    "collapsed": false
   }
  },
  {
   "cell_type": "code",
   "execution_count": 67,
   "outputs": [],
   "source": [],
   "metadata": {
    "collapsed": false
   }
  },
  {
   "cell_type": "markdown",
   "source": [
    "### 4. feladat: A 'keywords', 'subject' és 'properties' oszlopok további hasznos infókat tartalmaz, próbáld ezeket is kinyerni a flatten_nested_json_df függvénnyel!\n",
    "### 'Vegyük észre', hogy a 'properties' egy újabb 'tevékenység' kibányászását is lehetővé teszi (általában alkotás-típusú tevékenységeknél). Hívjuk ezt 'kiállításnak'. A helyszín/megjelenés helye (város ill. ország), a megjelenés kezdete/vége, továbbá a megjelenés jellege alapján generálj egy újabb táblát ('df_exhibitions'), majd hozd azt a 'df_creations' táblához hasonló formátumra. A lényeg, hogy legyen egy nagy közös, standardizált 'tevékenység' táblánk, minél több és minél jobb minőségű adattal."
   ],
   "metadata": {
    "collapsed": false
   }
  },
  {
   "cell_type": "code",
   "execution_count": 67,
   "outputs": [],
   "source": [],
   "metadata": {
    "collapsed": false
   }
  },
  {
   "cell_type": "markdown",
   "source": [
    "### 5. feladat: Az authors_df tábla a tevékenységekhez köthető szerepeket (is) gyűjti. Egészítsd ki az authors_df táblát is a kiállításokkal!"
   ],
   "metadata": {
    "collapsed": false
   }
  },
  {
   "cell_type": "code",
   "execution_count": 68,
   "outputs": [
    {
     "data": {
      "text/plain": "         mtid  authorships.author.mtid authorships.familyName  \\\n0  32236397.0               10071569.0                   Máté   \n0  32236397.0               10058346.0                 Vargha   \n0  32236397.0               10058347.0                 Zsótér   \n1  31335579.0               10058346.0                 Vargha   \n1  31335579.0               10058742.0                  Péter   \n\n  authorships.givenName authorships.type.label  \\\n0                 Gábor                 Szerző   \n0                Balázs                 Szerző   \n0                László                 Szerző   \n1                Balázs                Tervező   \n1              Vladimir                 Szerző   \n\n                                   authorships.label  \n0     Máté, Gábor [Máté, Gábor (Fotográfia), szerző]  \n0  Vargha, Balázs [Vargha, Balázs (médiaművészet)...  \n0  Zsótér, László [Zsótér, László (tervezőgrafika...  \n1  Vargha, Balázs [Vargha, Balázs (médiaművészet)...  \n1  Péter, Vladimir [Péter, Vladimir (Fémművesség,...  ",
      "text/html": "<div>\n<style scoped>\n    .dataframe tbody tr th:only-of-type {\n        vertical-align: middle;\n    }\n\n    .dataframe tbody tr th {\n        vertical-align: top;\n    }\n\n    .dataframe thead th {\n        text-align: right;\n    }\n</style>\n<table border=\"1\" class=\"dataframe\">\n  <thead>\n    <tr style=\"text-align: right;\">\n      <th></th>\n      <th>mtid</th>\n      <th>authorships.author.mtid</th>\n      <th>authorships.familyName</th>\n      <th>authorships.givenName</th>\n      <th>authorships.type.label</th>\n      <th>authorships.label</th>\n    </tr>\n  </thead>\n  <tbody>\n    <tr>\n      <th>0</th>\n      <td>32236397.0</td>\n      <td>10071569.0</td>\n      <td>Máté</td>\n      <td>Gábor</td>\n      <td>Szerző</td>\n      <td>Máté, Gábor [Máté, Gábor (Fotográfia), szerző]</td>\n    </tr>\n    <tr>\n      <th>0</th>\n      <td>32236397.0</td>\n      <td>10058346.0</td>\n      <td>Vargha</td>\n      <td>Balázs</td>\n      <td>Szerző</td>\n      <td>Vargha, Balázs [Vargha, Balázs (médiaművészet)...</td>\n    </tr>\n    <tr>\n      <th>0</th>\n      <td>32236397.0</td>\n      <td>10058347.0</td>\n      <td>Zsótér</td>\n      <td>László</td>\n      <td>Szerző</td>\n      <td>Zsótér, László [Zsótér, László (tervezőgrafika...</td>\n    </tr>\n    <tr>\n      <th>1</th>\n      <td>31335579.0</td>\n      <td>10058346.0</td>\n      <td>Vargha</td>\n      <td>Balázs</td>\n      <td>Tervező</td>\n      <td>Vargha, Balázs [Vargha, Balázs (médiaművészet)...</td>\n    </tr>\n    <tr>\n      <th>1</th>\n      <td>31335579.0</td>\n      <td>10058742.0</td>\n      <td>Péter</td>\n      <td>Vladimir</td>\n      <td>Szerző</td>\n      <td>Péter, Vladimir [Péter, Vladimir (Fémművesség,...</td>\n    </tr>\n  </tbody>\n</table>\n</div>"
     },
     "execution_count": 68,
     "metadata": {},
     "output_type": "execute_result"
    }
   ],
   "source": [
    "authors_df = flatten_nested_json_df(df_related_creations[[\"mtid\",\"authorships\"]])[[\"mtid\",\"authorships.author.mtid\",\"authorships.familyName\",\"authorships.givenName\",\"authorships.type.label\",\"authorships.label\"]].drop_duplicates()\n",
    "authors_df.head()"
   ],
   "metadata": {
    "collapsed": false
   }
  },
  {
   "cell_type": "code",
   "execution_count": 68,
   "outputs": [],
   "source": [],
   "metadata": {
    "collapsed": false
   }
  },
  {
   "cell_type": "markdown",
   "source": [
    "#### Várt végeredmény: Legyen legalább 3 standard tábla\n",
    "- Egy általános 'user' tábla\n",
    "- a standardizált MTMT tevékenységeket gyűjtő tábla,\n",
    "- adott tevékenységehez köthető userek, és azok aktuális szerepét tartalmazzó tábla"
   ],
   "metadata": {
    "collapsed": false
   }
  },
  {
   "cell_type": "markdown",
   "source": [
    "##### Van még valami, amire szerinted érdemes lenne odafigyelni?"
   ],
   "metadata": {
    "collapsed": false
   }
  },
  {
   "cell_type": "markdown",
   "source": [
    "### 6. feladat: Alap adatvizualizációk, az elemzés mélységét és scope-ját te határozhatod meg, de mindenképp legyen folytonos és kategorikus változók ábrázolása. Nem kell szépnek lennie, de legyen informatív.\n",
    "##### Ha nagyon kell inspiráció; legyen mondjuk: \"Mi a MOME, mint egyetem, MTMT-profilja, vagy milyen user profilok vannak a MOME-n?\""
   ],
   "metadata": {
    "collapsed": false
   }
  },
  {
   "cell_type": "code",
   "execution_count": 68,
   "outputs": [],
   "source": [],
   "metadata": {
    "collapsed": false
   }
  },
  {
   "cell_type": "markdown",
   "source": [
    "### 7. tervezési feladat: Vázolj fel egy 'search app'-ot! A cél hogy, egy sima szövegkereső alapján egyszerre tudj tevékenységeke és személyekre is keresni. Gondolkozz azon is, hogy hogyan lehetne az egymáshoz leghasonlóbb / egymáshoz 'legközelebbi' entitásokat (mind tevékenység, mind személyszinten) megtalálni. Szándékosan ilyen aspecifikus a specifikáció, itt inkább a 'brainstorm' képesség demonstrálása a cél. Milyen megközelítésekben gondolkodnál, milyen package-ekkel villognál?\n",
    "##### Értelemszerűen nem kell implementálni, csak egy pármondatos vázlat a cél."
   ],
   "metadata": {
    "collapsed": false
   }
  },
  {
   "cell_type": "code",
   "execution_count": 68,
   "outputs": [],
   "source": [],
   "metadata": {
    "collapsed": false
   }
  }
 ],
 "metadata": {
  "kernelspec": {
   "display_name": "Python 3",
   "language": "python",
   "name": "python3"
  },
  "language_info": {
   "codemirror_mode": {
    "name": "ipython",
    "version": 2
   },
   "file_extension": ".py",
   "mimetype": "text/x-python",
   "name": "python",
   "nbconvert_exporter": "python",
   "pygments_lexer": "ipython2",
   "version": "2.7.6"
  }
 },
 "nbformat": 4,
 "nbformat_minor": 0
}
